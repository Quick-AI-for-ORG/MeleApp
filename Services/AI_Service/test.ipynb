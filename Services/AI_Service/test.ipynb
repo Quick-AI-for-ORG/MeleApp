{
 "cells": [
  {
   "cell_type": "code",
   "execution_count": 1,
   "metadata": {},
   "outputs": [
    {
     "name": "stdout",
     "output_type": "stream",
     "text": [
      "['larvae: 13', 'honey_sealed: 5']\n"
     ]
    }
   ],
   "source": [
    "import requests\n",
    "import numpy as np\n",
    "import base64\n",
    "import cv2\n",
    "\n",
    "url = \"http://127.0.0.1:5000/honeyInspect\"\n",
    "files = {\"image\": open(\"./stock-photo-honeycomb-with-bee-larvae-as-a-texture-488503492.jpg\", \"rb\")}\n",
    "\n",
    "response = requests.post(url, files=files)\n",
    "print(response.json()['labels'])\n"
   ]
  },
  {
   "cell_type": "code",
   "execution_count": 2,
   "metadata": {},
   "outputs": [],
   "source": [
    "image_data = base64.b64decode(response.json()[\"frame\"])\n",
    "np_arr = np.frombuffer(image_data, np.uint8)\n",
    "annotated_img = cv2.imdecode(np_arr, cv2.IMREAD_COLOR)\n",
    "\n",
    "cv2.imshow(\"Annotated Image\", annotated_img)\n",
    "cv2.waitKey(0)\n",
    "cv2.destroyAllWindows()"
   ]
  }
 ],
 "metadata": {
  "kernelspec": {
   "display_name": "Python 3",
   "language": "python",
   "name": "python3"
  },
  "language_info": {
   "codemirror_mode": {
    "name": "ipython",
    "version": 3
   },
   "file_extension": ".py",
   "mimetype": "text/x-python",
   "name": "python",
   "nbconvert_exporter": "python",
   "pygments_lexer": "ipython3",
   "version": "3.12.0"
  }
 },
 "nbformat": 4,
 "nbformat_minor": 2
}
